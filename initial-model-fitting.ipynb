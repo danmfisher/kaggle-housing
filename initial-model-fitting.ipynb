{
 "cells": [
  {
   "cell_type": "code",
   "execution_count": 1,
   "metadata": {
    "collapsed": false
   },
   "outputs": [
    {
     "name": "stdout",
     "output_type": "stream",
     "text": [
      "Sun Dec  4 22:51:17 PST 2016\r\n"
     ]
    }
   ],
   "source": [
    "!date"
   ]
  },
  {
   "cell_type": "code",
   "execution_count": 2,
   "metadata": {
    "collapsed": false
   },
   "outputs": [],
   "source": [
    "import numpy as np\n",
    "import pandas as pd\n",
    "import seaborn as sns\n",
    "\n",
    "from sklearn.ensemble import RandomForestRegressor\n",
    "from sklearn.linear_model import Lasso, Ridge, ElasticNet\n",
    "from sklearn.svm import SVR\n",
    "\n",
    "from sklearn.model_selection import cross_val_score"
   ]
  },
  {
   "cell_type": "code",
   "execution_count": 3,
   "metadata": {
    "collapsed": false
   },
   "outputs": [],
   "source": [
    "df_train = pd.read_csv('train.csv')\n",
    "\n",
    "X_train = df_train.drop('SalePrice', axis=1)\n",
    "y_train = df_train[['SalePrice']]\n",
    "\n",
    "X_train.drop('Id', axis=1, inplace=True)\n",
    "X_train = pd.get_dummies(X_train)\n",
    "X_train = X_train.fillna(X_train.mean())\n",
    "\n",
    "y_train = y_train.fillna(y_train.mean()).values.ravel()\n",
    "y_train = np.log1p(y_train)"
   ]
  },
  {
   "cell_type": "code",
   "execution_count": null,
   "metadata": {
    "collapsed": false
   },
   "outputs": [],
   "source": [
    "estimator_1 = RandomForestRegressor(random_state=0)\n",
    "estimator_2 = Lasso(random_state=0)\n",
    "estimator_3 = Ridge(random_state=0)\n",
    "estimator_4 = ElasticNet(random_state=0)\n",
    "estimator_5 = SVR(kernel='linear')\n",
    "#estimator_6 = SVR(kernel='rbf')\n",
    "\n",
    "\n",
    "score_1 = -cross_val_score(estimator_1, X_train, y_train, cv=5, scoring='neg_mean_squared_error')\n",
    "score_2 = -cross_val_score(estimator_2, X_train, y_train, cv=5, scoring='neg_mean_squared_error')\n",
    "score_3 = -cross_val_score(estimator_3, X_train, y_train, cv=5, scoring='neg_mean_squared_error')\n",
    "score_4 = -cross_val_score(estimator_4, X_train, y_train, cv=5, scoring='neg_mean_squared_error')\n",
    "score_5 = -cross_val_score(estimator_5, X_train, y_train, cv=5, scoring='neg_mean_squared_error')\n",
    "#score_6 = -cross_val_score(estimator_6, X_train, y_train, cv=5, scoring='neg_mean_squared_error')"
   ]
  },
  {
   "cell_type": "code",
   "execution_count": 13,
   "metadata": {
    "collapsed": false
   },
   "outputs": [
    {
     "data": {
      "text/plain": [
       "array([[ 0.14451967,  0.15762802,  0.15678385,  0.14253156,  0.15824531],\n",
       "       [ 0.16077499,  0.20437243,  0.17676683,  0.18127643,  0.2651206 ],\n",
       "       [ 0.12049114,  0.15444248,  0.14302741,  0.11681945,  0.18938622],\n",
       "       [ 0.15488694,  0.19824818,  0.16634306,  0.17197386,  0.25653328]])"
      ]
     },
     "execution_count": 13,
     "metadata": {},
     "output_type": "execute_result"
    }
   ],
   "source": [
    "np.vstack(np.sqrt([score_1, score_2, score_3, score_4]))\n",
    "#print(np.vstack(np.sqrt([score_1, score_2, score_3, score_4, score_5, score_6])))"
   ]
  },
  {
   "cell_type": "code",
   "execution_count": null,
   "metadata": {
    "collapsed": false
   },
   "outputs": [],
   "source": []
  },
  {
   "cell_type": "code",
   "execution_count": null,
   "metadata": {
    "collapsed": true
   },
   "outputs": [],
   "source": []
  }
 ],
 "metadata": {
  "kernelspec": {
   "display_name": "Python [conda env:kaggle]",
   "language": "python",
   "name": "conda-env-kaggle-py"
  },
  "language_info": {
   "codemirror_mode": {
    "name": "ipython",
    "version": 3
   },
   "file_extension": ".py",
   "mimetype": "text/x-python",
   "name": "python",
   "nbconvert_exporter": "python",
   "pygments_lexer": "ipython3",
   "version": "3.5.2"
  }
 },
 "nbformat": 4,
 "nbformat_minor": 2
}
